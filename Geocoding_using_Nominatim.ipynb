{
  "nbformat": 4,
  "nbformat_minor": 0,
  "metadata": {
    "colab": {
      "provenance": [],
      "include_colab_link": true
    },
    "kernelspec": {
      "name": "python3",
      "display_name": "Python 3"
    },
    "language_info": {
      "name": "python"
    }
  },
  "cells": [
    {
      "cell_type": "markdown",
      "metadata": {
        "id": "view-in-github",
        "colab_type": "text"
      },
      "source": [
        "<a href=\"https://colab.research.google.com/github/sivakailashtech/Tools-in-data-science-codes/blob/main/Geocoding_using_Nominatim.ipynb\" target=\"_parent\"><img src=\"https://colab.research.google.com/assets/colab-badge.svg\" alt=\"Open In Colab\"/></a>"
      ]
    },
    {
      "cell_type": "markdown",
      "metadata": {
        "id": "Iyk0ElaXIlm2"
      },
      "source": [
        "# Scraping using Geocoding API of Open Street Maps (OSM)\n",
        "We would be using the Nominatim API to scrape geocoding information of any open ended address text using Python."
      ]
    },
    {
      "cell_type": "code",
      "metadata": {
        "id": "-LuNOEOgE8SR"
      },
      "source": [
        "# no need to install these if using Google Colab\n",
        "# !pip install geopandas\n",
        "# !pip install geopy"
      ],
      "execution_count": 1,
      "outputs": []
    },
    {
      "cell_type": "code",
      "metadata": {
        "id": "5a-bYKeFE8Pu"
      },
      "source": [
        "#import nominatim api\n",
        "from geopy.geocoders import Nominatim"
      ],
      "execution_count": 2,
      "outputs": []
    },
    {
      "cell_type": "code",
      "metadata": {
        "id": "Ehpfh17zE8Nh"
      },
      "source": [
        "#activate nominatim geocoder\n",
        "locator = Nominatim(user_agent=\"myGeocoder\")\n",
        "#type any address text\n",
        "location = locator.geocode(\"Champ de Mars, Paris, France\")"
      ],
      "execution_count": 10,
      "outputs": []
    },
    {
      "cell_type": "code",
      "metadata": {
        "colab": {
          "base_uri": "https://localhost:8080/"
        },
        "id": "xf7vfNMoE8LT",
        "outputId": "18f0299d-7b8e-422d-828c-cbd37fb9db0f"
      },
      "source": [
        "#print lattitude and longitude of the address\n",
        "print(\"Latitude = {}, Longitude = {}\".format(location.latitude, location.longitude))"
      ],
      "execution_count": 11,
      "outputs": [
        {
          "output_type": "stream",
          "name": "stdout",
          "text": [
            "Latitude = 48.85614465, Longitude = 2.297820393322227\n"
          ]
        }
      ]
    },
    {
      "cell_type": "code",
      "metadata": {
        "colab": {
          "base_uri": "https://localhost:8080/"
        },
        "id": "Ah4sD11EFfjp",
        "outputId": "c07efd2a-e916-4601-edbf-13bf1581e595"
      },
      "source": [
        "#the API output has multiple other details as a json like altitude, lattitude, longitude, correct raw addres, etc.\n",
        "#printing all the informaton\n",
        "location.raw,location.point,location.longitude,location.latitude,location.altitude,location.address"
      ],
      "execution_count": 5,
      "outputs": [
        {
          "output_type": "execute_result",
          "data": {
            "text/plain": [
              "({'place_id': 100458798,\n",
              "  'licence': 'Data © OpenStreetMap contributors, ODbL 1.0. https://osm.org/copyright',\n",
              "  'osm_type': 'way',\n",
              "  'osm_id': 4208595,\n",
              "  'boundingbox': ['48.8522459', '48.8600801', '2.2918711', '2.303791'],\n",
              "  'lat': '48.85614465',\n",
              "  'lon': '2.297820393322227',\n",
              "  'display_name': 'Champ de Mars, Square Sédillot, Quartier du Gros-Caillou, Paris 7e Arrondissement, Paris, Île-de-France, France métropolitaine, 75007, France',\n",
              "  'class': 'tourism',\n",
              "  'type': 'attraction',\n",
              "  'importance': 1.0080889235157509,\n",
              "  'icon': 'https://nominatim.openstreetmap.org/ui/mapicons/poi_point_of_interest.p.20.png'},\n",
              " Point(48.85614465, 2.297820393322227, 0.0),\n",
              " 2.297820393322227,\n",
              " 48.85614465,\n",
              " 0.0,\n",
              " 'Champ de Mars, Square Sédillot, Quartier du Gros-Caillou, Paris 7e Arrondissement, Paris, Île-de-France, France métropolitaine, 75007, France')"
            ]
          },
          "metadata": {},
          "execution_count": 5
        }
      ]
    },
    {
      "cell_type": "code",
      "metadata": {
        "id": "ylYQlNgXFuLc"
      },
      "source": [
        "#trying another address\n",
        "location2 = locator.geocode(\"IIT Madras\")"
      ],
      "execution_count": 6,
      "outputs": []
    },
    {
      "cell_type": "code",
      "metadata": {
        "colab": {
          "base_uri": "https://localhost:8080/"
        },
        "id": "d8fQUnnVF9rc",
        "outputId": "34ecce09-540d-4caa-dab6-7b7fafe5fc2c"
      },
      "source": [
        "#printing all the informaton\n",
        "location2.raw,location2.point,location2.longitude,location2.latitude,location2.altitude,location2.address"
      ],
      "execution_count": 7,
      "outputs": [
        {
          "output_type": "execute_result",
          "data": {
            "text/plain": [
              "({'place_id': 53821854,\n",
              "  'licence': 'Data © OpenStreetMap contributors, ODbL 1.0. https://osm.org/copyright',\n",
              "  'osm_type': 'node',\n",
              "  'osm_id': 4727968819,\n",
              "  'boundingbox': ['12.9914269', '12.9915269', '80.2336286', '80.2337286'],\n",
              "  'lat': '12.9914769',\n",
              "  'lon': '80.2336786',\n",
              "  'display_name': 'IIT Madras, Adayar, CMWSSB Division 174, Ward 174, Zone 13 Adyar, Chennai, Chennai District, Tamil Nadu, 600036, India',\n",
              "  'class': 'amenity',\n",
              "  'type': 'university',\n",
              "  'importance': 0.6647465975709506,\n",
              "  'icon': 'https://nominatim.openstreetmap.org/ui/mapicons/education_university.p.20.png'},\n",
              " Point(12.9914769, 80.2336786, 0.0),\n",
              " 80.2336786,\n",
              " 12.9914769,\n",
              " 0.0,\n",
              " 'IIT Madras, Adayar, CMWSSB Division 174, Ward 174, Zone 13 Adyar, Chennai, Chennai District, Tamil Nadu, 600036, India')"
            ]
          },
          "metadata": {},
          "execution_count": 7
        }
      ]
    }
  ]
}